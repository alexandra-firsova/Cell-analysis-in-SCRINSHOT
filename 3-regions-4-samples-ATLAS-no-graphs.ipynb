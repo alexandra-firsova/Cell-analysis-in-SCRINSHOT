{
 "cells": [
  {
   "cell_type": "code",
   "execution_count": null,
   "id": "b6e44c62",
   "metadata": {},
   "outputs": [],
   "source": [
    "from anndata import AnnData\n",
    "import scanpy as sc\n",
    "import numpy as np\n",
    "import pandas as pd\n",
    "import seaborn as sns\n",
    "import leidenalg\n",
    "\n",
    "from numpy.random import default_rng\n",
    "\n",
    "import matplotlib.pyplot as plt\n",
    "\n",
    "from matplotlib.pyplot import figure\n",
    "\n",
    "figure(figsize=(20, 20), dpi=80)"
   ]
  },
  {
   "cell_type": "code",
   "execution_count": null,
   "id": "652a86ea",
   "metadata": {},
   "outputs": [],
   "source": [
    "re=pd.read_excel(\"/mnt/c/Users/Sasha/Desktop/test/SCRINSHOT-Healthy-Atlas-all-samples.xlsx\")"
   ]
  },
  {
   "cell_type": "code",
   "execution_count": null,
   "id": "123c504b",
   "metadata": {},
   "outputs": [],
   "source": [
    "re.columns"
   ]
  },
  {
   "cell_type": "code",
   "execution_count": null,
   "id": "f18f5046",
   "metadata": {},
   "outputs": [],
   "source": [
    "re"
   ]
  },
  {
   "cell_type": "code",
   "execution_count": null,
   "id": "02feea99",
   "metadata": {},
   "outputs": [],
   "source": [
    "#Filter cells for more than 25 marker dots\n",
    "resub=re[re.iloc[:,14:68].sum(axis=1)>25]"
   ]
  },
  {
   "cell_type": "code",
   "execution_count": null,
   "id": "d34bb19e",
   "metadata": {},
   "outputs": [],
   "source": [
    "resub"
   ]
  },
  {
   "cell_type": "code",
   "execution_count": null,
   "id": "6bbd242a",
   "metadata": {},
   "outputs": [],
   "source": [
    "#define metadata and data of interest (genes of all datasets)\n",
    "metadata=resub.iloc[:,0:14]\n",
    "expdata=resub.iloc[:,14:68]"
   ]
  },
  {
   "cell_type": "code",
   "execution_count": null,
   "id": "b4fe6d6d",
   "metadata": {},
   "outputs": [],
   "source": [
    "expdata"
   ]
  },
  {
   "cell_type": "code",
   "execution_count": null,
   "id": "0a561b38",
   "metadata": {},
   "outputs": [],
   "source": [
    "metadata"
   ]
  },
  {
   "cell_type": "code",
   "execution_count": null,
   "id": "930d8dcb",
   "metadata": {},
   "outputs": [],
   "source": [
    "adata = sc.AnnData(expdata)\n",
    "adata.obs=metadata"
   ]
  },
  {
   "cell_type": "code",
   "execution_count": null,
   "id": "7b34db97",
   "metadata": {},
   "outputs": [],
   "source": [
    "adata.obs_names = pd.RangeIndex(stop=adata.n_obs)\n",
    "adata"
   ]
  },
  {
   "cell_type": "code",
   "execution_count": null,
   "id": "2f4a8a90",
   "metadata": {},
   "outputs": [],
   "source": [
    "adataraw=adata"
   ]
  },
  {
   "cell_type": "code",
   "execution_count": null,
   "id": "5b37b72f",
   "metadata": {},
   "outputs": [],
   "source": [
    "sc.pp.normalize_total(adata)"
   ]
  },
  {
   "cell_type": "code",
   "execution_count": null,
   "id": "3c1cdba0",
   "metadata": {},
   "outputs": [],
   "source": [
    "adatanorm=adata"
   ]
  },
  {
   "cell_type": "code",
   "execution_count": null,
   "id": "fc0708e1",
   "metadata": {},
   "outputs": [],
   "source": [
    "expdata_norm=(adatanorm)"
   ]
  },
  {
   "cell_type": "code",
   "execution_count": null,
   "id": "f90bbaa0",
   "metadata": {},
   "outputs": [],
   "source": [
    "adatanorm"
   ]
  },
  {
   "cell_type": "code",
   "execution_count": null,
   "id": "161348a5",
   "metadata": {},
   "outputs": [],
   "source": [
    "adatanorm.obs=metadata"
   ]
  },
  {
   "cell_type": "code",
   "execution_count": null,
   "id": "c6c98297",
   "metadata": {},
   "outputs": [],
   "source": [
    "adatanorm.obs_names = pd.RangeIndex(stop=adatanorm.n_obs)\n",
    "adatanorm"
   ]
  },
  {
   "cell_type": "code",
   "execution_count": null,
   "id": "f012a1ba",
   "metadata": {},
   "outputs": [],
   "source": [
    "sc.pp.neighbors(adatanorm, n_neighbors=20, n_pcs=7)\n",
    "sc.tl.leiden(adatanorm,resolution=1.5,key_added='clusters-pc7')"
   ]
  },
  {
   "cell_type": "code",
   "execution_count": null,
   "id": "b3eac90a",
   "metadata": {},
   "outputs": [],
   "source": [
    "adatanorm.obs['clusters-pc7'].unique()"
   ]
  },
  {
   "cell_type": "code",
   "execution_count": null,
   "id": "4391fc10",
   "metadata": {},
   "outputs": [],
   "source": [
    "sc.tl.paga(adatanorm, groups='clusters-pc7')\n",
    "sc.pl.paga(adatanorm, color=['clusters-pc7'])"
   ]
  },
  {
   "cell_type": "code",
   "execution_count": null,
   "id": "f7939224",
   "metadata": {},
   "outputs": [],
   "source": [
    "sc.tl.umap(adatanorm,min_dist=0.3)#,init_pos='paga')\n",
    "sc.set_figure_params(scanpy=True, dpi=200)"
   ]
  },
  {
   "cell_type": "code",
   "execution_count": null,
   "id": "38e7cbf7",
   "metadata": {},
   "outputs": [],
   "source": [
    "#the following plots are to visualize the data\n",
    "sc.pl.umap(adatanorm,color=['clusters-pc7'],cmap='viridis')#,save='.svg')"
   ]
  },
  {
   "cell_type": "code",
   "execution_count": null,
   "id": "2c2977cc",
   "metadata": {},
   "outputs": [],
   "source": [
    "sc.pl.umap(adatanorm,color=adata.var.index[0:75],cmap='viridis',vmax=10)"
   ]
  },
  {
   "cell_type": "code",
   "execution_count": null,
   "id": "2c89dbd2",
   "metadata": {},
   "outputs": [],
   "source": [
    "sc.pl.umap(adatanorm,color=adata.var.index[0:75],cmap='viridis',vmax=20)"
   ]
  },
  {
   "cell_type": "code",
   "execution_count": null,
   "id": "4ad6a0f0",
   "metadata": {},
   "outputs": [],
   "source": [
    "sc.pl.umap(adatanorm,color=['Region'], s=1)"
   ]
  },
  {
   "cell_type": "code",
   "execution_count": null,
   "id": "afd7f09b",
   "metadata": {},
   "outputs": [],
   "source": [
    "sc.pl.umap(adatanorm,color=['Sample'], s=1)"
   ]
  },
  {
   "cell_type": "code",
   "execution_count": null,
   "id": "7cf43d12",
   "metadata": {},
   "outputs": [],
   "source": [
    "sc.pl.umap(adatanorm,color=['Position'], s=1)"
   ]
  },
  {
   "cell_type": "code",
   "execution_count": null,
   "id": "24fd0446",
   "metadata": {},
   "outputs": [],
   "source": [
    "sc.pl.umap(adatanorm,color=['Donor'], s=1)"
   ]
  },
  {
   "cell_type": "code",
   "execution_count": null,
   "id": "c9c0e86c",
   "metadata": {
    "scrolled": true
   },
   "outputs": [],
   "source": [
    "sc.pl.umap(adatanorm,color=['Cell.class'], s=1)"
   ]
  },
  {
   "cell_type": "code",
   "execution_count": null,
   "id": "3b632aba",
   "metadata": {},
   "outputs": [],
   "source": [
    "sc.pl.umap(adatanorm,color=['Cell.type'], s=1)"
   ]
  },
  {
   "cell_type": "code",
   "execution_count": null,
   "id": "05a8bc31",
   "metadata": {},
   "outputs": [],
   "source": [
    "sc.pl.umap(adatanorm,color=['Cell.subtype'], s=1)"
   ]
  },
  {
   "cell_type": "code",
   "execution_count": null,
   "id": "0abed7ee",
   "metadata": {},
   "outputs": [],
   "source": [
    "#to check if clustering is affected by sample\n",
    "sc.tl.rank_genes_groups(adatanorm,groupby='Sample')"
   ]
  },
  {
   "cell_type": "code",
   "execution_count": null,
   "id": "0e42e960",
   "metadata": {},
   "outputs": [],
   "source": [
    "sc.pl.rank_genes_groups_dotplot(adatanorm)"
   ]
  },
  {
   "cell_type": "code",
   "execution_count": null,
   "id": "e5ed797d",
   "metadata": {},
   "outputs": [],
   "source": [
    "sc.pl.rank_genes_groups(adatanorm)"
   ]
  },
  {
   "cell_type": "code",
   "execution_count": null,
   "id": "dfdb7248",
   "metadata": {},
   "outputs": [],
   "source": [
    "#to check if clustering is affected by donor\n",
    "sc.tl.rank_genes_groups(adatanorm,groupby='Donor')"
   ]
  },
  {
   "cell_type": "code",
   "execution_count": null,
   "id": "fea1c006",
   "metadata": {},
   "outputs": [],
   "source": [
    "sc.pl.rank_genes_groups_dotplot(adatanorm)"
   ]
  },
  {
   "cell_type": "code",
   "execution_count": null,
   "id": "0137c11a",
   "metadata": {},
   "outputs": [],
   "source": [
    "sc.pl.rank_genes_groups(adatanorm)"
   ]
  },
  {
   "cell_type": "code",
   "execution_count": null,
   "id": "01019dca",
   "metadata": {},
   "outputs": [],
   "source": [
    "#to define differentially expressed genes by cluster\n",
    "sc.tl.rank_genes_groups(adatanorm, groupby='clusters-pc7', method='wilcoxon')\n",
    "sc.tl.dendrogram(adatanorm,groupby='clusters-pc7')\n",
    "sc.pl.rank_genes_groups_dotplot(adatanorm, n_genes=5, swap_axes=True)#,save='deg.pdf')"
   ]
  },
  {
   "cell_type": "code",
   "execution_count": null,
   "id": "3a7aa203",
   "metadata": {},
   "outputs": [],
   "source": [
    "#for pre-defined cell types only\n",
    "sc.tl.rank_genes_groups(adatanorm, groupby='Cell.type', method='wilcoxon')\n",
    "sc.tl.dendrogram(adatanorm,groupby='Cell.type')\n",
    "sc.pl.rank_genes_groups_dotplot(adatanorm, n_genes=5, swap_axes=True)#,save='deg.pdf')"
   ]
  },
  {
   "cell_type": "code",
   "execution_count": null,
   "id": "ab367f03",
   "metadata": {},
   "outputs": [],
   "source": [
    "writer = pd.ExcelWriter('All-SCRINSHOT-clusters-pc7-upd.xlsx')\n",
    "# write dataframe to excel\n",
    "adatanorm.obs.to_excel(writer)\n",
    "# save the excel\n",
    "writer.save()"
   ]
  },
  {
   "cell_type": "code",
   "execution_count": null,
   "id": "b4748d8e",
   "metadata": {},
   "outputs": [],
   "source": [
    "#to visulaize clusters by position\n",
    "colors=dict(zip(np.unique(adatanorm.obs['clusters-pc7'].astype(int)),adatanorm.uns['clusters-pc7_colors']))\n",
    "#cl.apply(lambda x: colors[x])\n",
    "cl=adatanorm.obs['clusters-pc7'].astype(int)"
   ]
  },
  {
   "cell_type": "code",
   "execution_count": null,
   "id": "2c084040",
   "metadata": {},
   "outputs": [],
   "source": [
    "import seaborn as sns\n",
    "import matplotlib as plt\n",
    "plt.pyplot.figure(figsize=(40,40))\n",
    "plt.pyplot.scatter(re.X,re.Y,s=20,c='#FFFFFF',linewidths=0,edgecolors=None)\n",
    "plt.pyplot.scatter(x=adatanorm.obs.X,y=adatanorm.obs.Y,c=cl.apply(lambda x: colors[x]),s=20,linewidths=0, edgecolors=None)\n",
    "ax=plt.pyplot.gca()                            # get the axis\n",
    "ax.set_ylim(ax.get_ylim()[::-1])        # invert the axis\n",
    "ax.xaxis.tick_top()                     # and move the X-Axis      \n",
    "ax.yaxis.tick_left() "
   ]
  },
  {
   "cell_type": "code",
   "execution_count": null,
   "id": "207cc03a",
   "metadata": {},
   "outputs": [],
   "source": [
    "#to create subclusters \n",
    "adatasub1=adatanorm[adatanorm.obs[\"clusters-pc7\"].isin([\"13\"])]"
   ]
  },
  {
   "cell_type": "code",
   "execution_count": null,
   "id": "b6e368a9",
   "metadata": {},
   "outputs": [],
   "source": [
    "sc.pp.neighbors(adatasub1, n_neighbors=10, n_pcs=0)\n",
    "sc.tl.leiden(adatasub1,resolution=0.8,key_added='Level2-cluster13')"
   ]
  },
  {
   "cell_type": "code",
   "execution_count": null,
   "id": "61989439",
   "metadata": {
    "scrolled": true
   },
   "outputs": [],
   "source": [
    "sc.tl.paga(adatasub1, groups='Level2-cluster13')\n",
    "sc.pl.paga(adatasub1, color=['Level2-cluster13'])"
   ]
  },
  {
   "cell_type": "code",
   "execution_count": null,
   "id": "3df01dda",
   "metadata": {},
   "outputs": [],
   "source": [
    "sc.tl.umap(adatasub1,min_dist=0.3)#,init_pos='paga')\n",
    "sc.set_figure_params(scanpy=True, dpi=200)"
   ]
  },
  {
   "cell_type": "code",
   "execution_count": null,
   "id": "e7ef8907",
   "metadata": {},
   "outputs": [],
   "source": [
    "#to visualize subclusters of cluster 13\n",
    "sc.pl.umap(adatasub1,color=['Level2-cluster13'],cmap='viridis')#,save='epith_clusters_0.svg')"
   ]
  },
  {
   "cell_type": "code",
   "execution_count": null,
   "id": "0ffd41f0",
   "metadata": {
    "scrolled": true
   },
   "outputs": [],
   "source": [
    "sc.pl.umap(adatasub1,color=adatasub1.var.index[0:74],cmap='viridis',vmax=10)"
   ]
  },
  {
   "cell_type": "code",
   "execution_count": null,
   "id": "b807b8bc",
   "metadata": {},
   "outputs": [],
   "source": [
    "sc.tl.rank_genes_groups(adatasub1, groupby='Level2-cluster13', method='wilcoxon')\n",
    "sc.tl.dendrogram(adatasub1,groupby='Level2-cluster13')\n",
    "sc.pl.rank_genes_groups_dotplot(adatasub1, n_genes=10, swap_axes=True)#,save='deg.pdf')"
   ]
  },
  {
   "cell_type": "code",
   "execution_count": null,
   "id": "18c98820",
   "metadata": {},
   "outputs": [],
   "source": [
    "sc.tl.rank_genes_groups(adatasub1,groupby='Position')"
   ]
  },
  {
   "cell_type": "code",
   "execution_count": null,
   "id": "145fbbae",
   "metadata": {
    "scrolled": true
   },
   "outputs": [],
   "source": [
    "sc.pl.rank_genes_groups_dotplot(adatasub1)"
   ]
  },
  {
   "cell_type": "code",
   "execution_count": null,
   "id": "13a85343-70f0-464f-abe9-a556b2844f56",
   "metadata": {},
   "outputs": [],
   "source": [
    "writer = pd.ExcelWriter('cluster13-Lev2.xlsx')\n",
    "# write dataframe to excel\n",
    "adatasub1.obs.to_excel(writer)\n",
    "# save the excel\n",
    "writer.save()"
   ]
  }
 ],
 "metadata": {
  "kernelspec": {
   "display_name": "Python 3 (ipykernel)",
   "language": "python",
   "name": "python3"
  },
  "language_info": {
   "codemirror_mode": {
    "name": "ipython",
    "version": 3
   },
   "file_extension": ".py",
   "mimetype": "text/x-python",
   "name": "python",
   "nbconvert_exporter": "python",
   "pygments_lexer": "ipython3",
   "version": "3.9.7"
  }
 },
 "nbformat": 4,
 "nbformat_minor": 5
}
